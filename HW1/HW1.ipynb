{
 "cells": [
  {
   "cell_type": "code",
   "execution_count": null,
   "metadata": {},
   "outputs": [],
   "source": [
    "import pyomo.environ as pyo\n",
    "import numpy as np\n",
    "\n",
    "def model():\n",
    "    m = pyo.ConcreteModel()\n",
    "    i=[1,2,3] # Designer Number\n",
    "    j=[1,2,3,4] # Project Number\n",
    "    H= [70, 50, 85, 35] # Hours required for each project\n",
    "    m.x = pyo.Var([i,j], domain=pyo.NonNegativeReals)\n",
    "\n",
    "    # Each Designer has maximum 80 hours\n",
    "    def constraint_rule1(m, i):\n",
    "        return sum(m.x[i,j] for j in j) <= 80\n",
    "    \n",
    "    # Each Project has their own minimum hours required\n",
    "    def constraint_rule2(m, j):\n",
    "        return sum(m.x[i,j] for i in i) >= H[j-1]\n",
    "    \n",
    "    # Objective function\n",
    "    def obj(m):\n",
    "        return 90 * m.x[1,1] + 80 * m.x[1,2] + 10 * m.x[1,3] + 50 * m.x[1,4] + 60 * m.x[2,1] + 70 * m.x[2,2] + 50 * m.x[2,3] + 65 * m.x[2,4] + 70 * m.x[3,1] + 40 * m.x[3,2] +  80 * m.x[3,3] + 85 * m.x[3,4]\n",
    "    \n",
    "    m.obj = pyo.Objective(rule=obj, sense=pyo.maximize)\n",
    "\n",
    "    m.cons1 = pyo.Constraint(i, rule=constraint_rule1)\n",
    "    m.cons2 = pyo.Constraint(j, rule=constraint_rule2)\n",
    "\n",
    "    return m\n",
    "\n",
    "if __name__ == '__main__':\n",
    "    m = model()\n",
    "    solver = pyo.SolverFactory('glpk')\n",
    "    solver.solve(m)\n",
    "    m.display()"
   ]
  }
 ],
 "metadata": {
  "kernelspec": {
   "display_name": "pyomo",
   "language": "python",
   "name": "python3"
  },
  "language_info": {
   "name": "python",
   "version": "3.11.5"
  }
 },
 "nbformat": 4,
 "nbformat_minor": 2
}
